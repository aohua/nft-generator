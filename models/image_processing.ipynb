{
 "cells": [
  {
   "cell_type": "markdown",
   "id": "naval-dating",
   "metadata": {},
   "source": [
    "### This notebook converts raw images into 256 x 256 dimension dataset"
   ]
  },
  {
   "cell_type": "code",
   "execution_count": 1,
   "id": "matched-testing",
   "metadata": {},
   "outputs": [
    {
     "name": "stdout",
     "output_type": "stream",
     "text": [
      "Requirement already satisfied: pip in /Users/jeremylee/anaconda3/envs/machine-reasoning/lib/python3.7/site-packages (20.3.3)\n",
      "Collecting pip\n",
      "  Downloading pip-21.3.1-py3-none-any.whl (1.7 MB)\n",
      "\u001b[K     |████████████████████████████████| 1.7 MB 6.8 MB/s eta 0:00:01\n",
      "\u001b[?25hInstalling collected packages: pip\n",
      "  Attempting uninstall: pip\n",
      "    Found existing installation: pip 20.3.3\n",
      "    Uninstalling pip-20.3.3:\n",
      "      Successfully uninstalled pip-20.3.3\n",
      "Successfully installed pip-21.3.1\n",
      "Requirement already satisfied: Pillow in /Users/jeremylee/anaconda3/envs/machine-reasoning/lib/python3.7/site-packages (8.1.0)\n",
      "Collecting Pillow\n",
      "  Downloading Pillow-8.4.0-cp37-cp37m-macosx_10_10_x86_64.whl (3.0 MB)\n",
      "     |████████████████████████████████| 3.0 MB 6.7 MB/s            \n",
      "\u001b[?25hInstalling collected packages: Pillow\n",
      "  Attempting uninstall: Pillow\n",
      "    Found existing installation: Pillow 8.1.0\n",
      "    Uninstalling Pillow-8.1.0:\n",
      "      Successfully uninstalled Pillow-8.1.0\n",
      "Successfully installed Pillow-8.4.0\n"
     ]
    }
   ],
   "source": [
    "!pip install --upgrade pip\n",
    "!pip install --upgrade Pillow"
   ]
  },
  {
   "cell_type": "code",
   "execution_count": 37,
   "id": "native-research",
   "metadata": {},
   "outputs": [
    {
     "name": "stdout",
     "output_type": "stream",
     "text": [
      "6c44d2966d.jpg\n"
     ]
    }
   ],
   "source": [
    "import os\n",
    "from PIL import Image\n",
    "from IPython.display import clear_output\n",
    "\n",
    "read_directory = '/Users/jeremylee/Desktop/ISY5002_practice_module/datasets/animal/all_animals'\n",
    "write_directory = '/Users/jeremylee/Desktop/ISY5002_practice_module/datasets/animal/processed_animals'\n",
    "\n",
    "count = 1\n",
    "\n",
    "for filename in os.listdir(read_directory):\n",
    "    if filename.endswith(\".jpg\"):\n",
    "        print('processing {}'.format(filename))\n",
    "        image = Image.open(read_directory + '/' + filename)\n",
    "        (width, height) = image.size\n",
    "        scale = 256 / width\n",
    "        if width > height:\n",
    "            scale = 256 / height\n",
    "        \n",
    "        # resize\n",
    "        new_image = image.resize((int(width * scale), int(height * scale)))\n",
    "        (width, height) = new_image.size\n",
    "        \n",
    "        # crop\n",
    "        left = (width - 256) // 2\n",
    "        top = 0\n",
    "        right = left + 256\n",
    "        bottom = 256\n",
    "        \n",
    "        if height > width:\n",
    "            left = 0\n",
    "            top = (height - 256) // 2\n",
    "            right = 256\n",
    "            bottom = top + 256\n",
    "        \n",
    "        box = (left, top, right, bottom)\n",
    "        new_image = new_image.crop(box)\n",
    "        \n",
    "        new_image.save(write_directory + '/' + filename)\n",
    "        clear_output(wait=True)"
   ]
  },
  {
   "cell_type": "code",
   "execution_count": null,
   "id": "brave-billy",
   "metadata": {},
   "outputs": [],
   "source": []
  }
 ],
 "metadata": {
  "kernelspec": {
   "display_name": "Python 3",
   "language": "python",
   "name": "python3"
  },
  "language_info": {
   "codemirror_mode": {
    "name": "ipython",
    "version": 3
   },
   "file_extension": ".py",
   "mimetype": "text/x-python",
   "name": "python",
   "nbconvert_exporter": "python",
   "pygments_lexer": "ipython3",
   "version": "3.7.9"
  }
 },
 "nbformat": 4,
 "nbformat_minor": 5
}
